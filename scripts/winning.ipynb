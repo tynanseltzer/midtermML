{
 "cells": [
  {
   "cell_type": "code",
   "execution_count": 1,
   "metadata": {
    "collapsed": true
   },
   "outputs": [
    {
     "name": "stdout",
     "output_type": "stream",
     "text": [
      "/Users/tynanseltzer/midtermML\n"
     ]
    },
    {
     "name": "stdout",
     "output_type": "stream",
     "text": [
      "0      -6.8\n1      -6.8\n2      -6.8\n3      -6.8\n4      -6.8\n5      -6.8\n6      -6.8\n7      -6.8\n8      -6.8\n9      -6.8\n10     -6.8\n11     -6.8\n12     -6.8\n13     -6.8\n14     -6.8\n15     -6.8\n16     -6.8\n17     -6.8\n18     -6.8\n19     -6.8\n20     -6.8\n21     -6.8\n22     -6.8\n23     -6.8\n24     -6.8\n25     -6.8\n26     -6.8\n27     -6.8\n28     -6.8\n29     -6.8\n       ... \n2040    7.3\n2041    7.3\n2042    7.3\n2043    7.3\n2044    7.3\n2045    7.3\n2046    7.3\n2047    7.3\n2048    7.3\n2049    7.3\n2050    7.3\n2051    7.3\n2052    7.3\n2053    7.3\n2054    7.3\n2055    7.3\n2056    7.3\n2057    7.3\n2058    7.3\n2059    7.3\n2060    7.3\n2061    7.3\n2062    7.3\n2063    7.3\n2064    7.3\n2065    7.3\n2066    7.3\n2067    7.3\n2068    7.3\n2069    7.3\nName: generic, Length: 2070, dtype: float64\n"
     ]
    }
   ],
   "source": [
    "import pandas as pd\n",
    "import os\n",
    "print(os.getcwd())\n",
    "generic = {2010: 6.8, 2012: -1.2, 2014: 5.7, 2016: 1.1, 2018: -7.3}\n",
    "new_df = pd.read_csv(\"data/parties.csv\", header=None)\n",
    "new_df.loc[:, \"generic\"] = 0\n",
    "for i, r in new_df.iterrows():\n",
    "    if r[6] == \"DEM\" or r[31] == \"REP\":\n",
    "        \n",
    "        new_df.loc[i, \"generic\"] = -generic[r[7]]\n",
    "    else:\n",
    "        new_df.loc[i, \"generic\"] = -generic[r[7]]\n",
    "\n",
    "print(new_df[\"generic\"])"
   ]
  },
  {
   "cell_type": "code",
   "execution_count": 2,
   "metadata": {},
   "outputs": [
    {
     "name": "stdout",
     "output_type": "stream",
     "text": [
      "[0, 1, 2, 3, 4, 5, 6, 7, 8, 9, 10, 11, 12, 13, 14, 15, 16, 17, 18, 19, 20, 21, 22, 23, 24, 25, 26, 27, 28, 29, 30, 31, 32, 33, 34, 35, 36, 37, 38, 39, 40, 41, 42, 43, 44, 45, 46, 47, 48, 49, 50, 'generic']\n[0, 1, 2, 3, 4, 5, 6, 7, 8, 9, 10, 11, 12, 13, 14, 15, 16, 17, 18, 19, 20, 21, 22, 23, 24, 26, 27, 28, 29, 30, 31, 32, 33, 34, 35, 36, 37, 38, 39, 40, 41, 42, 43, 44, 45, 46, 47, 48, 49, 25, 50, 'generic']\n[0, 1, 2, 3, 4, 5, 6, 7, 8, 9, 10, 11, 12, 13, 14, 15, 16, 17, 18, 19, 20, 21, 22, 23, 24, 26, 27, 28, 29, 30, 31, 32, 33, 34, 35, 36, 37, 38, 39, 40, 41, 42, 43, 44, 45, 46, 47, 48, 25, 50, 'generic', 49]\n0       0\n1       1\n2       0\n3       0\n4       1\n5       1\n6       0\n7       0\n8       1\n9       1\n10      1\n11      0\n12      0\n13      0\n14      1\n15      1\n16      1\n17      1\n18      1\n19      0\n20      1\n21      1\n22      0\n23      1\n24      0\n25      1\n26      1\n27      1\n28      1\n29      1\n       ..\n2040    0\n2041    0\n2042    0\n2043    0\n2044    0\n2045    0\n2046    0\n2047    0\n2048    0\n2049    0\n2050    0\n2051    0\n2052    0\n2053    0\n2054    0\n2055    0\n2056    0\n2057    0\n2058    0\n2059    0\n2060    0\n2061    0\n2062    0\n2063    0\n2064    0\n2065    0\n2066    0\n2067    0\n2068    0\n2069    0\nName: 49, Length: 2070, dtype: int64\n0       0\n1       1\n2       0\n3       0\n4       1\n5       1\n6       0\n7       0\n8       1\n9       1\n10      1\n11      0\n12      0\n13      0\n14      1\n15      1\n16      1\n17      1\n18      1\n19      0\n20      1\n21      1\n22      0\n23      1\n24      0\n25      1\n26      1\n27      1\n28      1\n29      1\n       ..\n2040    0\n2041    0\n2042    0\n2043    0\n2044    0\n2045    0\n2046    0\n2047    0\n2048    0\n2049    0\n2050    0\n2051    0\n2052    0\n2053    0\n2054    0\n2055    0\n2056    0\n2057    0\n2058    0\n2059    0\n2060    0\n2061    0\n2062    0\n2063    0\n2064    0\n2065    0\n2066    0\n2067    0\n2068    0\n2069    0\nName: 49, Length: 2070, dtype: int64\n[0, 1, 2, 3, 4, 5, 6, 7, 8, 9, 10, 11, 12, 13, 14, 15, 16, 17, 18, 19, 20, 21, 22, 23, 24, 26, 27, 28, 29, 30, 31, 32, 33, 34, 35, 36, 37, 38, 39, 40, 41, 42, 43, 44, 45, 46, 47, 48, 25, 50, 'generic', 49]\n"
     ]
    },
    {
     "data": {
      "text/plain": [
       "0"
      ]
     },
     "execution_count": 2,
     "metadata": {},
     "output_type": "execute_result"
    }
   ],
   "source": [
    "l = list(new_df.columns.values)\n",
    "print(l)\n",
    "l.insert(49, l.pop(25))\n",
    "print(l)\n",
    "l.append(l.pop(48))\n",
    "print(l)\n",
    "print(new_df[49])\n",
    "new_df = new_df[l]\n",
    "print(new_df[49])\n",
    "print(list(new_df.columns.values))\n",
    "l.pop(0)"
   ]
  },
  {
   "cell_type": "code",
   "execution_count": 3,
   "metadata": {},
   "outputs": [],
   "source": [
    "new_df.to_csv(\"data/parties.csv\", header=None)"
   ]
  },
  {
   "cell_type": "code",
   "execution_count": 4,
   "metadata": {},
   "outputs": [
    {
     "name": "stdout",
     "output_type": "stream",
     "text": [
      "0           4\n1           9\n2          14\n3          18\n4          29\n5           1\n6          81\n7          93\n8         104\n9         114\n10        123\n11        131\n12        138\n13        147\n14         42\n15         53\n16         69\n17         73\n18        155\n19        159\n20        163\n21        173\n22        178\n23        182\n24        190\n25        195\n26        202\n27        209\n28        227\n29        232\n        ...  \n2040    13150\n2041    13157\n2042    13160\n2043    13167\n2044    13182\n2045    13189\n2046    13193\n2047    13199\n2048    13210\n2049    13221\n2050    13229\n2051    13232\n2052    13241\n2053    13245\n2054    13251\n2055    13254\n2056    13274\n2057    13278\n2058    13281\n2059    13327\n2060    13331\n2061    13340\n2062    13286\n2063    13296\n2064    13300\n2065    13306\n2066    13312\n2067    13318\n2068    13324\n2069    13346\nName: 2, Length: 2070, dtype: int64\n"
     ]
    }
   ],
   "source": [
    "new_df = pd.read_csv(\"data/parties.csv\", header=None)\n",
    "l = list(new_df.columns.values)\n",
    "l.pop(0)\n",
    "l.pop(0)\n",
    "new_df = new_df[l]\n",
    "print(new_df[2])"
   ]
  },
  {
   "cell_type": "code",
   "execution_count": 5,
   "metadata": {},
   "outputs": [],
   "source": [
    "new_df.to_csv(\"data/parties.csv\", header=None)"
   ]
  },
  {
   "cell_type": "code",
   "execution_count": null,
   "metadata": {},
   "outputs": [],
   "source": []
  }
 ],
 "metadata": {
  "kernelspec": {
   "display_name": "Python 2",
   "language": "python",
   "name": "python2"
  },
  "language_info": {
   "codemirror_mode": {
    "name": "ipython",
    "version": 2
   },
   "file_extension": ".py",
   "mimetype": "text/x-python",
   "name": "python",
   "nbconvert_exporter": "python",
   "pygments_lexer": "ipython2",
   "version": "2.7.6"
  }
 },
 "nbformat": 4,
 "nbformat_minor": 0
}
